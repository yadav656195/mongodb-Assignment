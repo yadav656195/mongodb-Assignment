{
 "cells": [
  {
   "cell_type": "code",
   "execution_count": null,
   "id": "884d425b-0b70-4a98-a23b-9cb4e44a5e88",
   "metadata": {},
   "outputs": [],
   "source": [
    "\n",
    "Q1. What is MongoDB? Explain non-relational databases in short. In which scenarios is it preferred to use MongoDB over SQL databases?\n",
    "\n",
    "Ans-MongoDB: MongoDB is a popular open-source NoSQL database management system that uses a document-oriented data model. It stores data in flexible,\n",
    "JSON-like documents, which are called BSON (Binary JSON) documents. MongoDB is designed for scalability, performance, and ease of development.\n",
    "\n",
    "Non-relational databases: Non-relational databases, also known as NoSQL databases, are database systems that do not rely on the traditional \n",
    "relational database management system (RDBMS) structure. They provide a more flexible and scalable approach to handling and storing data \n",
    "compared to traditional SQL databases.\n",
    "\n",
    "Scenarios for using MongoDB over SQL databases:\n",
    "\n",
    "When dealing with large amounts of unstructured or semi-structured data.\n",
    "For projects with evolving and dynamic schemas where the data structure may change frequently.\n",
    "When there is a need for horizontal scalability and distributed databases.\n",
    "In scenarios where quick development and iteration are crucial.\n",
    "When the application requires high read and write throughput.\n"
   ]
  },
  {
   "cell_type": "code",
   "execution_count": null,
   "id": "b7241f11-a18b-40a8-a9e0-342d1f2e6ff3",
   "metadata": {},
   "outputs": [],
   "source": [
    "Q2. State and Explain the features of MongoDB.\n",
    "\n",
    "ans-Features of MongoDB:\n",
    "\n",
    "Flexible Schema: MongoDB allows for dynamic schema design, making it easy to evolve data models.\n",
    "Document-Oriented: Data is stored in BSON documents, which can contain nested structures.\n",
    "Scalability: MongoDB supports horizontal scalability through sharding, distributing data across multiple servers.\n",
    "High Performance: MongoDB provides high performance due to its indexing and query optimization features.\n",
    "Aggregation Framework: Offers powerful aggregation capabilities for data processing and analysis.\n",
    "Automatic Sharding: Enables automatic distribution of data across multiple machines.\n",
    "Replication: Supports data replication for fault tolerance and high availability.\n",
    "JSON/BSON Support: MongoDB uses JSON-like documents (BSON) for data representation, making it easy to work with.\n",
    "Indexing: Efficient indexing for faster query execution.\n",
    "Geospatial Indexing: Supports geospatial queries for location-based data.\n"
   ]
  },
  {
   "cell_type": "code",
   "execution_count": null,
   "id": "c6f04762-7dfb-4eb8-ab11-5e7b73617216",
   "metadata": {},
   "outputs": [],
   "source": [
    "Q3. Write a code to connect MongoDB to Python. Also, create a database and a collection in MongoDB.\n",
    "\n",
    "\n",
    "from pymongo import MongoClient\n",
    "\n",
    "\n",
    "client = MongoClient(\"mongodb://localhost:27017/\")  \n",
    "\n",
    "\n",
    "db = client[\"mydatabase\"]\n",
    "\n",
    "\n",
    "collection = db[\"mycollection\"]\n"
   ]
  },
  {
   "cell_type": "code",
   "execution_count": null,
   "id": "d80c026c-a959-40ae-b857-56acd4822da6",
   "metadata": {},
   "outputs": [],
   "source": [
    "Q4. Using the database and the collection created in question number 3, write a code to insert one record\n",
    "   and insert many records. Use the find() and find_one() methods to print the inserted record.\n",
    "\n",
    "\n",
    "data_one = {\"name\": \"John\", \"age\": 30, \"city\": \"New York\"}\n",
    "result_one = collection.insert_one(data_one)\n",
    "print(\"Inserted record ID:\", result_one.inserted_id)\n",
    "\n",
    "\n",
    "data_many = [\n",
    "    {\"name\": \"Alice\", \"age\": 25, \"city\": \"San Francisco\"},\n",
    "    {\"name\": \"Bob\", \"age\": 35, \"city\": \"Los Angeles\"}\n",
    "]\n",
    "result_many = collection.insert_many(data_many)\n",
    "print(\"Inserted records IDs:\", result_many.inserted_ids)\n",
    "\n",
    "\n",
    "record_one = collection.find_one({\"name\": \"John\"})\n",
    "print(\"One record:\", record_one)\n",
    "\n",
    "\n",
    "all_records = collection.find()\n",
    "for record in all_records:\n",
    "    print(\"All records:\", record)\n"
   ]
  },
  {
   "cell_type": "code",
   "execution_count": null,
   "id": "b1dd456f-b8b3-4eeb-a6f2-839245f2c5b8",
   "metadata": {},
   "outputs": [],
   "source": [
    "Q5. Explain how you can use the find() method to query the MongoDB database. Write a simple code to demonstrate this.\n",
    "\n",
    "\n",
    "query = {\"age\": {\"$gte\": 30}}  \n",
    "results = collection.find(query)\n",
    "\n",
    "\n",
    "for result in results:\n",
    "    print(\"Matching documents:\", result)\n"
   ]
  },
  {
   "cell_type": "code",
   "execution_count": null,
   "id": "9e3c7b13-1731-4c1c-9fbc-4968637054f5",
   "metadata": {},
   "outputs": [],
   "source": [
    "Q6. Explain the sort() method. Give an example to demonstrate sorting in MongoDB.\n",
    "\n",
    "The sort() method in MongoDB is used to sort the results of a query. It takes a field and an optional direction (ascending or descending).\n",
    "\n",
    "\n",
    "sorted_results_ascending = collection.find().sort(\"age\", 1)\n",
    "\n",
    "\n",
    "for result in sorted_results_ascending:\n",
    "    print(\"Sorted in ascending order:\", result)\n",
    "\n",
    "sorted_results_descending = collection.find().sort(\"age\", -1)\n",
    "\n",
    "\n",
    "for result in sorted_results_descending:\n",
    "    print(\"Sorted in descending order:\", result)\n"
   ]
  },
  {
   "cell_type": "code",
   "execution_count": null,
   "id": "18fcaae1-92d9-47fd-9892-db028d960113",
   "metadata": {},
   "outputs": [],
   "source": [
    "Q7. Explain why delete_one(), delete_many(), and drop() are used.\n",
    "\n",
    "delete_one(filter): Deletes a single document that matches the specified filter. It is useful when you want to remove a specific document based on certain criteria.\n",
    "\n",
    "\n",
    "collection.delete_one({\"name\": \"John\"})\n",
    "delete_many(filter): Deletes all documents that match the specified filter. It is useful when you want to remove multiple documents based on certain criteria.\n",
    "\n",
    "collection.delete_many({\"age\": {\"$gte\": 30}})\n",
    "drop(): Drops the entire collection, including all of its documents. It is useful when you want to remove an entire collection.\n",
    "\n",
    "\n",
    "collection.drop()"
   ]
  }
 ],
 "metadata": {
  "kernelspec": {
   "display_name": "Python 3 (ipykernel)",
   "language": "python",
   "name": "python3"
  },
  "language_info": {
   "codemirror_mode": {
    "name": "ipython",
    "version": 3
   },
   "file_extension": ".py",
   "mimetype": "text/x-python",
   "name": "python",
   "nbconvert_exporter": "python",
   "pygments_lexer": "ipython3",
   "version": "3.10.8"
  }
 },
 "nbformat": 4,
 "nbformat_minor": 5
}
